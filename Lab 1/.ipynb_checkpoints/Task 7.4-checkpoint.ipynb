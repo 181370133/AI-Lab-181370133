{
 "cells": [
  {
   "cell_type": "markdown",
   "id": "bbcf58a4",
   "metadata": {},
   "source": [
    "7.4 Male and Female Percentages\n",
    "Write a program that asks the user for the number of males and the number of females registered\n",
    "in a class. The program should display the percentage of males and females in the class.\n",
    "Hint: Suppose there are 8 males and 12 females in a class. There are 20 students in the class. The\n",
    "percentage of males can be calculated as 8 4 20 5 0.4, or 40%. The percentage of females can be\n",
    "calculated as 12 4 20 5 0.6, or 60%."
   ]
  },
  {
   "cell_type": "code",
   "execution_count": 1,
   "id": "6f2e7af6",
   "metadata": {},
   "outputs": [
    {
     "name": "stdout",
     "output_type": "stream",
     "text": [
      "Enter number of males: 40\n",
      "Enter number of females: 25\n"
     ]
    }
   ],
   "source": [
    "males =int (input(\"Enter number of males: \"))\n",
    "females =int (input(\"Enter number of females: \"))"
   ]
  },
  {
   "cell_type": "code",
   "execution_count": 5,
   "id": "517f78e9",
   "metadata": {},
   "outputs": [],
   "source": [
    "total= males+females\n",
    "pMales = int((males/total)*100)\n",
    "pFemales = int((females/total)*100)"
   ]
  },
  {
   "cell_type": "code",
   "execution_count": 6,
   "id": "b0d9fd2f",
   "metadata": {},
   "outputs": [
    {
     "name": "stdout",
     "output_type": "stream",
     "text": [
      "Percentage of Males: 61 %\n",
      "Percentage of Females: 38 %\n"
     ]
    }
   ],
   "source": [
    "print(\"Percentage of Males:\" , pMales,\"%\")\n",
    "print(\"Percentage of Females:\" , pFemales,\"%\")"
   ]
  },
  {
   "cell_type": "code",
   "execution_count": null,
   "id": "07e2fec8",
   "metadata": {},
   "outputs": [],
   "source": []
  }
 ],
 "metadata": {
  "kernelspec": {
   "display_name": "Python 3",
   "language": "python",
   "name": "python3"
  },
  "language_info": {
   "codemirror_mode": {
    "name": "ipython",
    "version": 3
   },
   "file_extension": ".py",
   "mimetype": "text/x-python",
   "name": "python",
   "nbconvert_exporter": "python",
   "pygments_lexer": "ipython3",
   "version": "3.8.8"
  }
 },
 "nbformat": 4,
 "nbformat_minor": 5
}
