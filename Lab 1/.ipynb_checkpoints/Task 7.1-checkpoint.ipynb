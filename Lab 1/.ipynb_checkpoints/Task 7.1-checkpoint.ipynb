{
 "cells": [
  {
   "cell_type": "markdown",
   "id": "12e329e6",
   "metadata": {},
   "source": [
    "7.1 Sales Tax\n",
    "Write a program that will ask the user to enter the amount of a purchase. The program should then\n",
    "compute the state and county sales tax. Assume the state sales tax is 5 percent and the county\n",
    "sales tax is 2.5 percent. The program should display the following: * The amount of the purchase\n",
    "* The state sales tax * The county sales tax * The total sales tax * and the total of the sale (which\n",
    "is the sum of the amount of purchase plus the total sales tax)."
   ]
  },
  {
   "cell_type": "code",
   "execution_count": 1,
   "id": "9134ff86",
   "metadata": {},
   "outputs": [
    {
     "name": "stdout",
     "output_type": "stream",
     "text": [
      "Enter purchase price: 33.4\n"
     ]
    }
   ],
   "source": [
    "price = float(input(\"Enter purchase price: \"))"
   ]
  },
  {
   "cell_type": "code",
   "execution_count": 2,
   "id": "b1ab9b01",
   "metadata": {},
   "outputs": [],
   "source": [
    "stateTax = price*0.05\n",
    "countyTax = price*0.025\n",
    "totalTax = countyTax+stateTax"
   ]
  },
  {
   "cell_type": "code",
   "execution_count": 4,
   "id": "df3206d7",
   "metadata": {},
   "outputs": [],
   "source": [
    "salePrice = price+totalTax"
   ]
  },
  {
   "cell_type": "code",
   "execution_count": 5,
   "id": "ed169e69",
   "metadata": {},
   "outputs": [
    {
     "name": "stdout",
     "output_type": "stream",
     "text": [
      "State Tax: 1.67\n",
      "County Tax: 0.835\n",
      "Total Tax: 2.505\n",
      "Sale Price: 35.905\n"
     ]
    }
   ],
   "source": [
    "print(\"State Tax:\" , stateTax)\n",
    "print(\"County Tax:\" , countyTax)\n",
    "print(\"Total Tax:\" , totalTax)\n",
    "print(\"Sale Price:\" , salePrice)"
   ]
  },
  {
   "cell_type": "code",
   "execution_count": null,
   "id": "3a1be7c9",
   "metadata": {},
   "outputs": [],
   "source": []
  }
 ],
 "metadata": {
  "kernelspec": {
   "display_name": "Python 3",
   "language": "python",
   "name": "python3"
  },
  "language_info": {
   "codemirror_mode": {
    "name": "ipython",
    "version": 3
   },
   "file_extension": ".py",
   "mimetype": "text/x-python",
   "name": "python",
   "nbconvert_exporter": "python",
   "pygments_lexer": "ipython3",
   "version": "3.8.8"
  }
 },
 "nbformat": 4,
 "nbformat_minor": 5
}
