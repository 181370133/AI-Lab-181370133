{
 "cells": [
  {
   "cell_type": "raw",
   "id": "04417691",
   "metadata": {},
   "source": [
    "7.3 Ingredient Adjuster\n",
    "A cookie recipe calls for the following ingredients: * 1.5 cups of sugar * 1 cup of butter * 2.75 cups\n",
    "of flour The recipe produces 48 cookies with this amount of the ingredients. Write a program that asks\n",
    "the user how many cookies he or she wants to make, and then displays the number of cups of each\n",
    "ingredient needed for the specified number of cookies."
   ]
  },
  {
   "cell_type": "code",
   "execution_count": 1,
   "id": "3f9ee139",
   "metadata": {},
   "outputs": [
    {
     "name": "stdout",
     "output_type": "stream",
     "text": [
      "Enter how many cookies you want to make: 33\n"
     ]
    }
   ],
   "source": [
    "cookies =int(input(\"Enter how many cookies you want to make: \"))"
   ]
  },
  {
   "cell_type": "code",
   "execution_count": 2,
   "id": "0c8c5eb2",
   "metadata": {},
   "outputs": [],
   "source": [
    "sugarforOne = 1.5/48\n",
    "butterforOne = 1/48\n",
    "flourforOne = 2.75/48"
   ]
  },
  {
   "cell_type": "code",
   "execution_count": 3,
   "id": "32b3bba0",
   "metadata": {},
   "outputs": [],
   "source": [
    "sugar = sugarforOne*cookies\n",
    "butter = butterforOne*cookies\n",
    "flour = flourforOne*cookies"
   ]
  },
  {
   "cell_type": "code",
   "execution_count": 4,
   "id": "e1c0f2d6",
   "metadata": {},
   "outputs": [
    {
     "name": "stdout",
     "output_type": "stream",
     "text": [
      "Sugar for  33  cookies required is  1.03125  cups\n",
      "Butter for  33  cookies required is  0.6875  cups\n",
      "Flour for  33  cookies required is  1.890625  cups\n"
     ]
    }
   ],
   "source": [
    "print(\"Sugar for \" , cookies, \" cookies required is \",sugar, \" cups\")\n",
    "print(\"Butter for \" , cookies, \" cookies required is \",butter, \" cups\")\n",
    "print(\"Flour for \" , cookies, \" cookies required is \",flour, \" cups\")"
   ]
  },
  {
   "cell_type": "code",
   "execution_count": null,
   "id": "72569310",
   "metadata": {},
   "outputs": [],
   "source": []
  },
  {
   "cell_type": "code",
   "execution_count": null,
   "id": "bbd7b83e",
   "metadata": {},
   "outputs": [],
   "source": []
  }
 ],
 "metadata": {
  "kernelspec": {
   "display_name": "Python 3",
   "language": "python",
   "name": "python3"
  },
  "language_info": {
   "codemirror_mode": {
    "name": "ipython",
    "version": 3
   },
   "file_extension": ".py",
   "mimetype": "text/x-python",
   "name": "python",
   "nbconvert_exporter": "python",
   "pygments_lexer": "ipython3",
   "version": "3.8.8"
  }
 },
 "nbformat": 4,
 "nbformat_minor": 5
}
