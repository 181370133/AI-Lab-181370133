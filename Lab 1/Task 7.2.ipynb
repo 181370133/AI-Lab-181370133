{
 "cells": [
  {
   "cell_type": "markdown",
   "id": "2508ac44",
   "metadata": {},
   "source": [
    "7.2 Tip, Tax and Total\n",
    "Write a program that calculates the total amount of a meal purchased at a restaurant. The program\n",
    "should ask the user to enter the charge for the food, and then calculate the amount of a 18 percent\n",
    "tip and 7 percent sales tax. Display each of these amounts and the total."
   ]
  },
  {
   "cell_type": "code",
   "execution_count": 1,
   "id": "1bfcbbad",
   "metadata": {},
   "outputs": [
    {
     "name": "stdout",
     "output_type": "stream",
     "text": [
      "Enter meal price: 226\n"
     ]
    }
   ],
   "source": [
    "price = float(input(\"Enter meal price: \"))"
   ]
  },
  {
   "cell_type": "code",
   "execution_count": 2,
   "id": "c2bd9abe",
   "metadata": {},
   "outputs": [],
   "source": [
    "tip = price*0.18\n",
    "salesTax = price*0.07\n",
    "totalPrice = tip+salesTax"
   ]
  },
  {
   "cell_type": "code",
   "execution_count": 3,
   "id": "7bcd0e96",
   "metadata": {},
   "outputs": [
    {
     "name": "stdout",
     "output_type": "stream",
     "text": [
      "Tip: 40.68\n",
      "Sales Tax: 15.820000000000002\n",
      "Total: 56.5\n"
     ]
    }
   ],
   "source": [
    "print(\"Tip:\" , tip)\n",
    "print(\"Sales Tax:\" , salesTax)\n",
    "print(\"Total:\" , totalPrice)"
   ]
  },
  {
   "cell_type": "code",
   "execution_count": null,
   "id": "6027a8b1",
   "metadata": {},
   "outputs": [],
   "source": []
  }
 ],
 "metadata": {
  "kernelspec": {
   "display_name": "Python 3",
   "language": "python",
   "name": "python3"
  },
  "language_info": {
   "codemirror_mode": {
    "name": "ipython",
    "version": 3
   },
   "file_extension": ".py",
   "mimetype": "text/x-python",
   "name": "python",
   "nbconvert_exporter": "python",
   "pygments_lexer": "ipython3",
   "version": "3.8.8"
  }
 },
 "nbformat": 4,
 "nbformat_minor": 5
}
